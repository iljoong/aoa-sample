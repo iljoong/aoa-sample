{
 "cells": [
  {
   "cell_type": "markdown",
   "metadata": {},
   "source": [
    "## IRIS classification sample\n",
    "\n",
    "very simple Iris sample using keras\n",
    "\n",
    "- dataset: https://en.wikipedia.org/wiki/Iris_flower_data_set\n",
    "- source reference: https://medium.com/@luwei.io/logistic-regression-with-keras-d75d640d175e\n",
    "\n",
    "This sample demonstrates:\n",
    "\n",
    "- basics of keras mechanism\n",
    "- how to load dataset (csv file into numpy)\n",
    "- visualization of dataset"
   ]
  },
  {
   "cell_type": "code",
   "execution_count": 1,
   "metadata": {},
   "outputs": [
    {
     "name": "stderr",
     "output_type": "stream",
     "text": [
      "/anaconda/envs/py35/lib/python3.5/site-packages/h5py/__init__.py:36: FutureWarning: Conversion of the second argument of issubdtype from `float` to `np.floating` is deprecated. In future, it will be treated as `np.float64 == np.dtype(float).type`.\n",
      "  from ._conv import register_converters as _register_converters\n",
      "Using TensorFlow backend.\n"
     ]
    }
   ],
   "source": [
    "import numpy as np\n",
    "from keras.models import Sequential\n",
    "from keras.layers import Dense\n",
    "from keras.regularizers import L1L2\n",
    "\n",
    "from keras.utils.np_utils import to_categorical \n",
    "from keras import backend as K\n",
    "import matplotlib.pyplot as plt"
   ]
  },
  {
   "cell_type": "markdown",
   "metadata": {},
   "source": [
    "### Data preparation"
   ]
  },
  {
   "cell_type": "code",
   "execution_count": 2,
   "metadata": {
    "scrolled": true
   },
   "outputs": [
    {
     "name": "stdout",
     "output_type": "stream",
     "text": [
      "<class 'numpy.ndarray'> (150, 5)\n",
      "[5.1 3.5 1.4 0.2 0. ]\n",
      "(150, 4) [5.1 3.5 1.4 0.2]\n",
      "(150, 1) [0.] Iris-setosa\n",
      "[1. 0. 0.]\n"
     ]
    }
   ],
   "source": [
    "label = ['Iris-setosa', 'Iris-versicolor', 'Iris-virginica']\n",
    "\n",
    "iris_data = np.genfromtxt('./assets/iris/iris.csv', delimiter=',')\n",
    "    \n",
    "print(type(iris_data), iris_data.shape)\n",
    "print(iris_data[0])\n",
    "x_train = iris_data[:,:4]\n",
    "print(x_train.shape, x_train[0])\n",
    "yo_train = iris_data[:,4:]\n",
    "print(yo_train.shape, yo_train[0], label[int(yo_train[0])])\n",
    "\n",
    "# convert to OHE format\n",
    "y_train = to_categorical(yo_train, num_classes=len(label))\n",
    "\n",
    "print(y_train[0])"
   ]
  },
  {
   "cell_type": "markdown",
   "metadata": {},
   "source": [
    "### Train\n"
   ]
  },
  {
   "cell_type": "code",
   "execution_count": 3,
   "metadata": {},
   "outputs": [],
   "source": [
    "K.clear_session()\n",
    "\n",
    "input_dim = 4\n",
    "out_dim = len(label)\n",
    "\n",
    "model = Sequential()\n",
    "model.add(Dense(out_dim,\n",
    "                activation='softmax',\n",
    "                kernel_regularizer=L1L2(l1=0.0, l2=0.1),\n",
    "                input_dim=input_dim))\n"
   ]
  },
  {
   "cell_type": "code",
   "execution_count": 4,
   "metadata": {
    "scrolled": true
   },
   "outputs": [
    {
     "name": "stdout",
     "output_type": "stream",
     "text": [
      "Epoch 1/100\n",
      "150/150 [==============================] - 5s 31ms/step - loss: 1.8126 - acc: 0.5733\n",
      "Epoch 2/100\n",
      "150/150 [==============================] - 0s 88us/step - loss: 1.2140 - acc: 0.6667\n",
      "Epoch 3/100\n",
      "150/150 [==============================] - 0s 119us/step - loss: 0.9475 - acc: 0.6667\n",
      "Epoch 4/100\n",
      "150/150 [==============================] - 0s 84us/step - loss: 0.8660 - acc: 0.8400\n",
      "Epoch 5/100\n",
      "150/150 [==============================] - 0s 82us/step - loss: 0.8489 - acc: 0.9000\n",
      "Epoch 6/100\n",
      "150/150 [==============================] - 0s 75us/step - loss: 0.8374 - acc: 0.9400\n",
      "Epoch 7/100\n",
      "150/150 [==============================] - 0s 83us/step - loss: 0.8337 - acc: 0.9200\n",
      "Epoch 8/100\n",
      "150/150 [==============================] - 0s 195us/step - loss: 0.8287 - acc: 0.9267\n",
      "Epoch 9/100\n",
      "150/150 [==============================] - 0s 86us/step - loss: 0.8234 - acc: 0.9200\n",
      "Epoch 10/100\n",
      "150/150 [==============================] - 0s 78us/step - loss: 0.8212 - acc: 0.9067\n",
      "Epoch 11/100\n",
      "150/150 [==============================] - 0s 81us/step - loss: 0.8190 - acc: 0.8800\n",
      "Epoch 12/100\n",
      "150/150 [==============================] - 0s 85us/step - loss: 0.8128 - acc: 0.9067\n",
      "Epoch 13/100\n",
      "150/150 [==============================] - 0s 83us/step - loss: 0.8080 - acc: 0.9267\n",
      "Epoch 14/100\n",
      "150/150 [==============================] - 0s 84us/step - loss: 0.8041 - acc: 0.9333\n",
      "Epoch 15/100\n",
      "150/150 [==============================] - 0s 98us/step - loss: 0.8016 - acc: 0.9000\n",
      "Epoch 16/100\n",
      "150/150 [==============================] - 0s 77us/step - loss: 0.7974 - acc: 0.9067\n",
      "Epoch 17/100\n",
      "150/150 [==============================] - 0s 74us/step - loss: 0.7934 - acc: 0.9267\n",
      "Epoch 18/100\n",
      "150/150 [==============================] - 0s 79us/step - loss: 0.7929 - acc: 0.9200\n",
      "Epoch 19/100\n",
      "150/150 [==============================] - 0s 78us/step - loss: 0.7934 - acc: 0.8867\n",
      "Epoch 20/100\n",
      "150/150 [==============================] - 0s 78us/step - loss: 0.7854 - acc: 0.8867\n",
      "Epoch 21/100\n",
      "150/150 [==============================] - 0s 75us/step - loss: 0.7848 - acc: 0.8933\n",
      "Epoch 22/100\n",
      "150/150 [==============================] - 0s 80us/step - loss: 0.7817 - acc: 0.9333\n",
      "Epoch 23/100\n",
      "150/150 [==============================] - 0s 73us/step - loss: 0.7812 - acc: 0.9200\n",
      "Epoch 24/100\n",
      "150/150 [==============================] - 0s 77us/step - loss: 0.7755 - acc: 0.9200\n",
      "Epoch 25/100\n",
      "150/150 [==============================] - 0s 83us/step - loss: 0.7715 - acc: 0.9267\n",
      "Epoch 26/100\n",
      "150/150 [==============================] - 0s 80us/step - loss: 0.7686 - acc: 0.9267\n",
      "Epoch 27/100\n",
      "150/150 [==============================] - 0s 91us/step - loss: 0.7658 - acc: 0.8733\n",
      "Epoch 28/100\n",
      "150/150 [==============================] - 0s 78us/step - loss: 0.7647 - acc: 0.9267\n",
      "Epoch 29/100\n",
      "150/150 [==============================] - 0s 78us/step - loss: 0.7658 - acc: 0.9067\n",
      "Epoch 30/100\n",
      "150/150 [==============================] - 0s 89us/step - loss: 0.7597 - acc: 0.9200\n",
      "Epoch 31/100\n",
      "150/150 [==============================] - 0s 75us/step - loss: 0.7566 - acc: 0.9267\n",
      "Epoch 32/100\n",
      "150/150 [==============================] - 0s 102us/step - loss: 0.7564 - acc: 0.8933\n",
      "Epoch 33/100\n",
      "150/150 [==============================] - 0s 75us/step - loss: 0.7529 - acc: 0.9133\n",
      "Epoch 34/100\n",
      "150/150 [==============================] - 0s 84us/step - loss: 0.7534 - acc: 0.8800\n",
      "Epoch 35/100\n",
      "150/150 [==============================] - 0s 76us/step - loss: 0.7497 - acc: 0.9333\n",
      "Epoch 36/100\n",
      "150/150 [==============================] - 0s 76us/step - loss: 0.7463 - acc: 0.9200\n",
      "Epoch 37/100\n",
      "150/150 [==============================] - 0s 86us/step - loss: 0.7466 - acc: 0.9333\n",
      "Epoch 38/100\n",
      "150/150 [==============================] - 0s 95us/step - loss: 0.7450 - acc: 0.9133\n",
      "Epoch 39/100\n",
      "150/150 [==============================] - 0s 96us/step - loss: 0.7416 - acc: 0.8733\n",
      "Epoch 40/100\n",
      "150/150 [==============================] - 0s 87us/step - loss: 0.7402 - acc: 0.9133\n",
      "Epoch 41/100\n",
      "150/150 [==============================] - 0s 86us/step - loss: 0.7376 - acc: 0.8867\n",
      "Epoch 42/100\n",
      "150/150 [==============================] - 0s 77us/step - loss: 0.7368 - acc: 0.8533\n",
      "Epoch 43/100\n",
      "150/150 [==============================] - 0s 75us/step - loss: 0.7357 - acc: 0.9333\n",
      "Epoch 44/100\n",
      "150/150 [==============================] - 0s 85us/step - loss: 0.7324 - acc: 0.8600\n",
      "Epoch 45/100\n",
      "150/150 [==============================] - 0s 89us/step - loss: 0.7307 - acc: 0.9133\n",
      "Epoch 46/100\n",
      "150/150 [==============================] - 0s 76us/step - loss: 0.7314 - acc: 0.9267\n",
      "Epoch 47/100\n",
      "150/150 [==============================] - 0s 82us/step - loss: 0.7281 - acc: 0.8867\n",
      "Epoch 48/100\n",
      "150/150 [==============================] - 0s 84us/step - loss: 0.7264 - acc: 0.8933\n",
      "Epoch 49/100\n",
      "150/150 [==============================] - 0s 84us/step - loss: 0.7250 - acc: 0.8733\n",
      "Epoch 50/100\n",
      "150/150 [==============================] - 0s 92us/step - loss: 0.7246 - acc: 0.9267\n",
      "Epoch 51/100\n",
      "150/150 [==============================] - 0s 76us/step - loss: 0.7234 - acc: 0.8667\n",
      "Epoch 52/100\n",
      "150/150 [==============================] - 0s 88us/step - loss: 0.7224 - acc: 0.8333\n",
      "Epoch 53/100\n",
      "150/150 [==============================] - 0s 78us/step - loss: 0.7210 - acc: 0.9600\n",
      "Epoch 54/100\n",
      "150/150 [==============================] - 0s 83us/step - loss: 0.7189 - acc: 0.9000\n",
      "Epoch 55/100\n",
      "150/150 [==============================] - 0s 84us/step - loss: 0.7229 - acc: 0.8200\n",
      "Epoch 56/100\n",
      "150/150 [==============================] - 0s 82us/step - loss: 0.7179 - acc: 0.9333\n",
      "Epoch 57/100\n",
      "150/150 [==============================] - 0s 82us/step - loss: 0.7220 - acc: 0.9267\n",
      "Epoch 58/100\n",
      "150/150 [==============================] - 0s 84us/step - loss: 0.7160 - acc: 0.8733\n",
      "Epoch 59/100\n",
      "150/150 [==============================] - 0s 77us/step - loss: 0.7136 - acc: 0.8600\n",
      "Epoch 60/100\n",
      "150/150 [==============================] - 0s 77us/step - loss: 0.7125 - acc: 0.8733\n",
      "Epoch 61/100\n",
      "150/150 [==============================] - 0s 83us/step - loss: 0.7104 - acc: 0.9133\n",
      "Epoch 62/100\n",
      "150/150 [==============================] - 0s 83us/step - loss: 0.7130 - acc: 0.8133\n",
      "Epoch 63/100\n",
      "150/150 [==============================] - 0s 78us/step - loss: 0.7106 - acc: 0.9067\n",
      "Epoch 64/100\n",
      "150/150 [==============================] - 0s 93us/step - loss: 0.7100 - acc: 0.9400\n",
      "Epoch 65/100\n",
      "150/150 [==============================] - 0s 79us/step - loss: 0.7155 - acc: 0.9200\n",
      "Epoch 66/100\n",
      "150/150 [==============================] - 0s 86us/step - loss: 0.7079 - acc: 0.8667\n",
      "Epoch 67/100\n",
      "150/150 [==============================] - 0s 83us/step - loss: 0.7048 - acc: 0.8267\n",
      "Epoch 68/100\n",
      "150/150 [==============================] - 0s 83us/step - loss: 0.7027 - acc: 0.9200\n",
      "Epoch 69/100\n",
      "150/150 [==============================] - 0s 80us/step - loss: 0.7034 - acc: 0.8933\n",
      "Epoch 70/100\n",
      "150/150 [==============================] - 0s 79us/step - loss: 0.7017 - acc: 0.8400\n",
      "Epoch 71/100\n",
      "150/150 [==============================] - 0s 86us/step - loss: 0.7006 - acc: 0.9333\n",
      "Epoch 72/100\n",
      "150/150 [==============================] - 0s 92us/step - loss: 0.7011 - acc: 0.9067\n",
      "Epoch 73/100\n",
      "150/150 [==============================] - 0s 82us/step - loss: 0.6998 - acc: 0.8800\n",
      "Epoch 74/100\n",
      "150/150 [==============================] - 0s 87us/step - loss: 0.6980 - acc: 0.8467\n",
      "Epoch 75/100\n",
      "150/150 [==============================] - 0s 87us/step - loss: 0.7039 - acc: 0.9400\n",
      "Epoch 76/100\n",
      "150/150 [==============================] - 0s 82us/step - loss: 0.7046 - acc: 0.8467\n",
      "Epoch 77/100\n",
      "150/150 [==============================] - 0s 88us/step - loss: 0.6994 - acc: 0.9067\n",
      "Epoch 78/100\n",
      "150/150 [==============================] - 0s 84us/step - loss: 0.7000 - acc: 0.9333\n",
      "Epoch 79/100\n",
      "150/150 [==============================] - 0s 89us/step - loss: 0.6945 - acc: 0.9600\n",
      "Epoch 80/100\n",
      "150/150 [==============================] - 0s 102us/step - loss: 0.6950 - acc: 0.8200\n",
      "Epoch 81/100\n",
      "150/150 [==============================] - 0s 92us/step - loss: 0.6920 - acc: 0.9333\n",
      "Epoch 82/100\n",
      "150/150 [==============================] - 0s 98us/step - loss: 0.6912 - acc: 0.8933\n",
      "Epoch 83/100\n",
      "150/150 [==============================] - 0s 80us/step - loss: 0.6915 - acc: 0.8867\n",
      "Epoch 84/100\n",
      "150/150 [==============================] - 0s 95us/step - loss: 0.6908 - acc: 0.8800\n",
      "Epoch 85/100\n",
      "150/150 [==============================] - 0s 91us/step - loss: 0.6917 - acc: 0.9267\n",
      "Epoch 86/100\n",
      "150/150 [==============================] - 0s 80us/step - loss: 0.6906 - acc: 0.8467\n",
      "Epoch 87/100\n",
      "150/150 [==============================] - 0s 91us/step - loss: 0.6917 - acc: 0.8733\n",
      "Epoch 88/100\n",
      "150/150 [==============================] - 0s 96us/step - loss: 0.6876 - acc: 0.9333\n",
      "Epoch 89/100\n",
      "150/150 [==============================] - 0s 78us/step - loss: 0.6877 - acc: 0.8533\n",
      "Epoch 90/100\n",
      "150/150 [==============================] - 0s 83us/step - loss: 0.6866 - acc: 0.9267\n",
      "Epoch 91/100\n",
      "150/150 [==============================] - 0s 94us/step - loss: 0.6864 - acc: 0.8867\n",
      "Epoch 92/100\n",
      "150/150 [==============================] - 0s 79us/step - loss: 0.6878 - acc: 0.8667\n",
      "Epoch 93/100\n",
      "150/150 [==============================] - 0s 85us/step - loss: 0.6878 - acc: 0.8400\n",
      "Epoch 94/100\n",
      "150/150 [==============================] - 0s 84us/step - loss: 0.6844 - acc: 0.9267\n",
      "Epoch 95/100\n",
      "150/150 [==============================] - 0s 83us/step - loss: 0.6861 - acc: 0.8333\n",
      "Epoch 96/100\n",
      "150/150 [==============================] - 0s 86us/step - loss: 0.6832 - acc: 0.9000\n",
      "Epoch 97/100\n",
      "150/150 [==============================] - 0s 107us/step - loss: 0.6838 - acc: 0.8800\n",
      "Epoch 98/100\n",
      "150/150 [==============================] - 0s 88us/step - loss: 0.6858 - acc: 0.9067\n",
      "Epoch 99/100\n",
      "150/150 [==============================] - 0s 86us/step - loss: 0.6855 - acc: 0.8533\n",
      "Epoch 100/100\n",
      "150/150 [==============================] - 0s 85us/step - loss: 0.6839 - acc: 0.8000\n"
     ]
    }
   ],
   "source": [
    "model.compile(optimizer='sgd',\n",
    "              loss='categorical_crossentropy',\n",
    "              metrics=['accuracy'])\n",
    "history = model.fit(x_train, y_train, epochs=100) # epochs = 500"
   ]
  },
  {
   "cell_type": "code",
   "execution_count": 5,
   "metadata": {},
   "outputs": [
    {
     "data": {
      "image/png": "[encoded data removed]",
      "text/plain": [
       "<matplotlib.figure.Figure at 0x7fd6d0111550>"
      ]
     },
     "metadata": {},
     "output_type": "display_data"
    }
   ],
   "source": [
    "# Get training and test loss histories\n",
    "loss = history.history['loss']\n",
    "acc = history.history['acc']\n",
    "# Create count of the number of epochs\n",
    "epoch_count = range(1, len(loss) + 1)\n",
    "\n",
    "# Visualize loss history\n",
    "plt.plot(epoch_count, acc, 'b--')\n",
    "plt.plot(epoch_count, loss, 'r--')\n",
    "plt.legend(['acc', 'loss'])\n",
    "plt.xlabel('epoch')\n",
    "plt.ylabel('acc vs. loss')\n",
    "plt.show()"
   ]
  },
  {
   "cell_type": "markdown",
   "metadata": {},
   "source": [
    "### Predict"
   ]
  },
  {
   "cell_type": "code",
   "execution_count": 6,
   "metadata": {},
   "outputs": [
    {
     "name": "stdout",
     "output_type": "stream",
     "text": [
      "[7.  3.2 4.7 1.4] [1.]\n"
     ]
    }
   ],
   "source": [
    "idx = 50\n",
    "test = x_train[idx]\n",
    "val = yo_train[idx]\n",
    "print(test, val)"
   ]
  },
  {
   "cell_type": "code",
   "execution_count": 7,
   "metadata": {},
   "outputs": [
    {
     "name": "stdout",
     "output_type": "stream",
     "text": [
      "1 Iris-versicolor\n"
     ]
    }
   ],
   "source": [
    "x = np.expand_dims(test, axis=0)\n",
    "y = model.predict(x)\n",
    "predict = np.argmax(y)\n",
    "print(predict, label[predict])"
   ]
  },
  {
   "cell_type": "markdown",
   "metadata": {},
   "source": [
    "### Plot\n",
    "\n",
    "Data visualization\n",
    "\n",
    "https://www.kaggle.com/abhishekkrg/python-iris-data-visualization-and-explanation"
   ]
  },
  {
   "cell_type": "code",
   "execution_count": 8,
   "metadata": {},
   "outputs": [],
   "source": [
    "import sys\n",
    "import numpy\n",
    "import pandas\n",
    "from pandas.tools.plotting import scatter_matrix\n",
    "import matplotlib.pyplot as plt\n",
    "import numpy as np\n",
    "import warnings"
   ]
  },
  {
   "cell_type": "code",
   "execution_count": 9,
   "metadata": {},
   "outputs": [],
   "source": [
    "url='./assets/iris/iris-plot.csv'\n",
    "dataset = pandas.read_csv(url)"
   ]
  },
  {
   "cell_type": "code",
   "execution_count": 10,
   "metadata": {},
   "outputs": [
    {
     "name": "stdout",
     "output_type": "stream",
     "text": [
      "   id  SepalLengthCm  SepalWidthCm  PetalLengthCm  PetalWidthCm      Species\n",
      "0   1            5.1           3.5            1.4           0.2  Iris-setosa\n",
      "1   2            4.9           3.0            1.4           0.2  Iris-setosa\n",
      "2   3            4.7           3.2            1.3           0.2  Iris-setosa\n",
      "3   4            4.6           3.1            1.5           0.2  Iris-setosa\n",
      "4   5            5.0           3.6            1.4           0.2  Iris-setosa\n",
      "5   6            5.4           3.9            1.7           0.4  Iris-setosa\n",
      "6   7            4.6           3.4            1.4           0.3  Iris-setosa\n",
      "7   8            5.0           3.4            1.5           0.2  Iris-setosa\n",
      "8   9            4.4           2.9            1.4           0.2  Iris-setosa\n",
      "9  10            4.9           3.1            1.5           0.1  Iris-setosa\n"
     ]
    }
   ],
   "source": [
    "print(dataset.head(10))"
   ]
  },
  {
   "cell_type": "code",
   "execution_count": 11,
   "metadata": {},
   "outputs": [
    {
     "data": {
      "text/plain": [
       "array(['Iris-setosa', 'Iris-versicolor', 'Iris-virginica'], dtype=object)"
      ]
     },
     "execution_count": 11,
     "metadata": {},
     "output_type": "execute_result"
    }
   ],
   "source": [
    "dataset['Species'].unique()"
   ]
  },
  {
   "cell_type": "code",
   "execution_count": 12,
   "metadata": {},
   "outputs": [],
   "source": [
    "setosa=dataset[dataset['Species']=='Iris-setosa']\n",
    "versicolor =dataset[dataset['Species']=='Iris-versicolor']\n",
    "virginica =dataset[dataset['Species']=='Iris-virginica']"
   ]
  },
  {
   "cell_type": "code",
   "execution_count": 13,
   "metadata": {},
   "outputs": [
    {
     "name": "stdout",
     "output_type": "stream",
     "text": [
      "               id  SepalLengthCm  SepalWidthCm  PetalLengthCm  PetalWidthCm\n",
      "count  150.000000     150.000000    150.000000     150.000000    150.000000\n",
      "mean    75.500000       5.843333      3.054000       3.758667      1.198667\n",
      "std     43.445368       0.828066      0.433594       1.764420      0.763161\n",
      "min      1.000000       4.300000      2.000000       1.000000      0.100000\n",
      "25%     38.250000       5.100000      2.800000       1.600000      0.300000\n",
      "50%     75.500000       5.800000      3.000000       4.350000      1.300000\n",
      "75%    112.750000       6.400000      3.300000       5.100000      1.800000\n",
      "max    150.000000       7.900000      4.400000       6.900000      2.500000\n"
     ]
    }
   ],
   "source": [
    "print(dataset.describe())"
   ]
  },
  {
   "cell_type": "code",
   "execution_count": 14,
   "metadata": {},
   "outputs": [
    {
     "data": {
      "text/plain": [
       "<matplotlib.legend.Legend at 0x7fd6b801e908>"
      ]
     },
     "execution_count": 14,
     "metadata": {},
     "output_type": "execute_result"
    },
    {
     "data": {
      "text/plain": [
       "<matplotlib.figure.Figure at 0x7fd6b807d7b8>"
      ]
     },
     "metadata": {},
     "output_type": "display_data"
    },
    {
     "data": {
      "image/png": "[encoded data removed]",
      "text/plain": [
       "<matplotlib.figure.Figure at 0x7fd6b807d780>"
      ]
     },
     "metadata": {},
     "output_type": "display_data"
    }
   ],
   "source": [
    "plt.figure()\n",
    "fig,ax=plt.subplots(1,2,figsize=(17, 9))\n",
    "dataset.plot(x=\"SepalLengthCm\",y=\"SepalWidthCm\",kind=\"scatter\",ax=ax[0],sharex=False,sharey=False,label=\"sepal\",color='r')\n",
    "dataset.plot(x=\"PetalLengthCm\",y=\"PetalWidthCm\",kind=\"scatter\",ax=ax[1],sharex=False,sharey=False,label=\"petal\",color='b')\n",
    "ax[0].set(title='Sepal comparasion ', ylabel='sepal-width')\n",
    "ax[1].set(title='Petal Comparasion',  ylabel='petal-width')\n",
    "ax[0].legend()\n",
    "ax[1].legend()"
   ]
  },
  {
   "cell_type": "code",
   "execution_count": 15,
   "metadata": {},
   "outputs": [
    {
     "data": {
      "text/plain": [
       "<matplotlib.legend.Legend at 0x7fd6a5717390>"
      ]
     },
     "execution_count": 15,
     "metadata": {},
     "output_type": "execute_result"
    },
    {
     "data": {
      "text/plain": [
       "<matplotlib.figure.Figure at 0x7fd6a578d978>"
      ]
     },
     "metadata": {},
     "output_type": "display_data"
    },
    {
     "data": {
      "image/png": "[encoded data removed]",
      "text/plain": [
       "<matplotlib.figure.Figure at 0x7fd6a578dcc0>"
      ]
     },
     "metadata": {},
     "output_type": "display_data"
    }
   ],
   "source": [
    "plt.figure()\n",
    "fig,ax=plt.subplots(1,2,figsize=(21, 10))\n",
    "\n",
    "setosa.plot(x=\"SepalLengthCm\", y=\"SepalWidthCm\", kind=\"scatter\",ax=ax[0],label='setosa',color='r')\n",
    "versicolor.plot(x=\"SepalLengthCm\",y=\"SepalWidthCm\",kind=\"scatter\",ax=ax[0],label='versicolor',color='b')\n",
    "virginica.plot(x=\"SepalLengthCm\", y=\"SepalWidthCm\", kind=\"scatter\", ax=ax[0], label='virginica', color='g')\n",
    "\n",
    "setosa.plot(x=\"PetalLengthCm\", y=\"PetalWidthCm\", kind=\"scatter\",ax=ax[1],label='setosa',color='r')\n",
    "versicolor.plot(x=\"PetalLengthCm\",y=\"PetalWidthCm\",kind=\"scatter\",ax=ax[1],label='versicolor',color='b')\n",
    "virginica.plot(x=\"PetalLengthCm\", y=\"PetalWidthCm\", kind=\"scatter\", ax=ax[1], label='virginica', color='g')\n",
    "\n",
    "ax[0].set(title='Sepal comparasion ', ylabel='sepal-width')\n",
    "ax[1].set(title='Petal Comparasion',  ylabel='petal-width')\n",
    "ax[0].legend()\n",
    "ax[1].legend()"
   ]
  },
  {
   "cell_type": "code",
   "execution_count": null,
   "metadata": {},
   "outputs": [],
   "source": []
  }
 ],
 "metadata": {
  "kernelspec": {
   "display_name": "Python [default]",
   "language": "python",
   "name": "python3"
  },
  "language_info": {
   "codemirror_mode": {
    "name": "ipython",
    "version": 3
   },
   "file_extension": ".py",
   "mimetype": "text/x-python",
   "name": "python",
   "nbconvert_exporter": "python",
   "pygments_lexer": "ipython3",
   "version": "3.5.4"
  }
 },
 "nbformat": 4,
 "nbformat_minor": 2
}
