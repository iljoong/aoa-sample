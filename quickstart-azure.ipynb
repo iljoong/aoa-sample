{
 "cells": [
  {
   "cell_type": "markdown",
   "metadata": {},
   "source": [
    "## Quickstart - Azure\n",
    "\n",
    "- Blob Storage"
   ]
  },
  {
   "cell_type": "markdown",
   "metadata": {},
   "source": [
    "### Blob Storage\n",
    "\n",
    "Prep: \n",
    "- install latest [blobxfer](http://blobxfer.readthedocs.io/en/latest/) on your machine\n",
    "- get azure blob storage account info, including key\n",
    "- add config in `myconfig.py`"
   ]
  },
  {
   "cell_type": "code",
   "execution_count": 1,
   "metadata": {},
   "outputs": [],
   "source": [
    "# update config\n",
    "import myconfig\n",
    "#print(myconfig.blobacct, myconfig.blobkey)"
   ]
  },
  {
   "cell_type": "markdown",
   "metadata": {},
   "source": [
    "#### upload `model` files to blob storage"
   ]
  },
  {
   "cell_type": "code",
   "execution_count": 2,
   "metadata": {},
   "outputs": [],
   "source": [
    "from subprocess import call\n",
    "import os"
   ]
  },
  {
   "cell_type": "code",
   "execution_count": 3,
   "metadata": {},
   "outputs": [
    {
     "name": "stdout",
     "output_type": "stream",
     "text": [
      "blobxfer upload --storage-account storacc  --storage-account-key _storage_key== --remote-path upload/models --local-path /home/iljoong/models\n"
     ]
    },
    {
     "data": {
      "text/plain": [
       "0"
      ]
     },
     "execution_count": 3,
     "metadata": {},
     "output_type": "execute_result"
    }
   ],
   "source": [
    "blobcont = 'upload'\n",
    "blobpath = blobcont + '/models'\n",
    "localpath = os.path.abspath('../models/')\n",
    "\n",
    "print(\"blobxfer upload --storage-account {}  --storage-account-key {} --remote-path {} --local-path {}\".format(myconfig.blobacct, myconfig.blobkey, blobpath, localpath))\n",
    "\n",
    "call([\"blobxfer\", \"upload\", \"--storage-account\", myconfig.blobacct, \"--storage-account-key\", myconfig.blobkey, \"--remote-path\", blobpath, \"--local-path\", localpath])"
   ]
  },
  {
   "cell_type": "markdown",
   "metadata": {},
   "source": [
    "#### download `model` files from blob storage"
   ]
  },
  {
   "cell_type": "code",
   "execution_count": 4,
   "metadata": {},
   "outputs": [
    {
     "name": "stdout",
     "output_type": "stream",
     "text": [
      "blobxfer download --storage-account storacc  --storage-account-key _storage_key== --remote-path upload/models --local-path /home/iljoong/models --skip-on-lmt-ge --strip-components 100\n"
     ]
    },
    {
     "data": {
      "text/plain": [
       "0"
      ]
     },
     "execution_count": 4,
     "metadata": {},
     "output_type": "execute_result"
    }
   ],
   "source": [
    "blobcont = 'upload'\n",
    "blobpath = blobcont + '/models'\n",
    "downpath = os.path.abspath('../models/')\n",
    "\n",
    "if not os.path.exists(downpath):\n",
    "    os.makedirs(downpath)\n",
    "\n",
    "print(\"blobxfer download --storage-account {}  --storage-account-key {} --remote-path {} --local-path {} --skip-on-lmt-ge --strip-components 100\".format(myconfig.blobacct, myconfig.blobkey, blobpath, downpath))\n",
    "\n",
    "call([\"blobxfer\", \"download\", \"--storage-account\", myconfig.blobacct, \"--storage-account-key\", myconfig.blobkey, \"--remote-path\", blobpath, \"--local-path\", downpath, \n",
    "      \"--skip-on-lmt-ge\", \"--strip-components\", \"100\"])"
   ]
  },
  {
   "cell_type": "code",
   "execution_count": null,
   "metadata": {},
   "outputs": [],
   "source": []
  }
 ],
 "metadata": {
  "kernelspec": {
   "display_name": "Python [default]",
   "language": "python",
   "name": "python3"
  },
  "language_info": {
   "codemirror_mode": {
    "name": "ipython",
    "version": 3
   },
   "file_extension": ".py",
   "mimetype": "text/x-python",
   "name": "python",
   "nbconvert_exporter": "python",
   "pygments_lexer": "ipython3",
   "version": "3.5.4"
  }
 },
 "nbformat": 4,
 "nbformat_minor": 2
}
