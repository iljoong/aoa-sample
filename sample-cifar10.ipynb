{
 "cells": [
  {
   "cell_type": "markdown",
   "metadata": {},
   "source": [
    "## CIFAR10 Sample\n",
    "\n",
    "CIFAR10 sample with preparing large datasets\n",
    "\n",
    "- CIFAR10 dataset: https://www.cs.toronto.edu/~kriz/cifar.html\n",
    "- original sample: https://github.com/keras-team/keras/blob/master/examples/cifar10_cnn.py\n",
    "\n",
    "This sample demonstrates:\n",
    "\n",
    "- preparing large dataset\n",
    "- use `ImageDataGenerator` to load dataset\n",
    "- predict using url image"
   ]
  },
  {
   "cell_type": "markdown",
   "metadata": {},
   "source": [
    "### Data Prep\n",
    "\n",
    "reference source: https://cntk.ai/pythondocs/CNTK_201A_CIFAR-10_DataLoader.html"
   ]
  },
  {
   "cell_type": "code",
   "execution_count": 1,
   "metadata": {},
   "outputs": [],
   "source": [
    "from __future__ import print_function # Use a function definition from future version (say 3.x from 2.7 interpreter)\n",
    "\n",
    "from PIL import Image\n",
    "import numpy as np\n",
    "import pickle as cp\n",
    "import os\n",
    "import shutil\n",
    "import sys"
   ]
  },
  {
   "cell_type": "code",
   "execution_count": 2,
   "metadata": {},
   "outputs": [],
   "source": [
    "imgSize = 32"
   ]
  },
  {
   "cell_type": "markdown",
   "metadata": {},
   "source": [
    "__Note__: download/unzip/untar `https://www.cs.toronto.edu/~kriz/cifar-10-python.tar.gz` to `../datasets` directory before run below code"
   ]
  },
  {
   "cell_type": "code",
   "execution_count": 3,
   "metadata": {},
   "outputs": [],
   "source": [
    "def saveImage(fname, data, pad, **key_parms):\n",
    "    # data in CIFAR-10 dataset is in CHW format.\n",
    "    pixData = data.reshape((3, imgSize, imgSize))\n",
    "    \n",
    "    if pad > 0:\n",
    "        pixData = np.pad(pixData, ((0, 0), (pad, pad), (pad, pad)), mode='constant', constant_values=128)\n",
    "\n",
    "    img = Image.new('RGB', (imgSize + 2 * pad, imgSize + 2 * pad))\n",
    "    pixels = img.load()\n",
    "    \n",
    "    for x in range(img.size[0]):\n",
    "        for y in range(img.size[1]):\n",
    "            pixels[x, y] = (pixData[0][y][x], pixData[1][y][x], pixData[2][y][x])\n",
    "    img.save(fname)\n",
    "    \n",
    "def saveTrainImages(datapath, foldername):\n",
    "    if not os.path.exists(foldername):\n",
    "        os.makedirs(foldername)\n",
    "    data = {}\n",
    "\n",
    "    for ifile in range(1, 6):\n",
    "        print('... reading file `data_batch_%d`' % ifile)\n",
    "        with open(os.path.join(datapath, 'data_batch_' + str(ifile)), 'rb') as f:\n",
    "            if sys.version_info[0] < 3:\n",
    "                data = cp.load(f)\n",
    "            else:\n",
    "                data = cp.load(f, encoding='latin1')\n",
    "                \n",
    "            for i in range(10000):\n",
    "                fdir = os.path.join(os.path.abspath(foldername), ('%d') % (data['labels'][i]))\n",
    "                fname = os.path.join(fdir, ('%d-%05d.png' % (data['labels'][i], i + (ifile - 1) * 10000)))\n",
    "                saveImage(fname, data['data'][i, :], 0)\n",
    "\n",
    "\n",
    "def saveTestImages(datapath, foldername):\n",
    "    if not os.path.exists(foldername):\n",
    "        os.makedirs(foldername)\n",
    "\n",
    "    with open(os.path.join(datapath, 'test_batch'), 'rb') as f:\n",
    "        if sys.version_info[0] < 3:\n",
    "            data = cp.load(f)\n",
    "        else:\n",
    "            data = cp.load(f, encoding='latin1')\n",
    "        for i in range(10000):\n",
    "            fdir = os.path.join(os.path.abspath(foldername), ('%d') % (data['labels'][i]))\n",
    "            fname = os.path.join(fdir, ('%d-%05d.png' % (data['labels'][i], i)))\n",
    "            saveImage(fname, data['data'][i, :], 0)"
   ]
  },
  {
   "cell_type": "code",
   "execution_count": 4,
   "metadata": {},
   "outputs": [],
   "source": [
    "# create label folders\n",
    "datapath = '../datasets/cifar-10-batches-py'\n",
    "trainpath = os.path.join(os.path.abspath(datapath), 'train')\n",
    "testpath = os.path.join(os.path.abspath(datapath), 'test')\n",
    "\n",
    "# created labeled folders\n",
    "for label in range(0, 10):\n",
    "    directory = os.path.join(trainpath, '%d' % label)\n",
    "    if not os.path.exists(directory):\n",
    "        os.makedirs(directory)\n",
    "\n",
    "for label in range(0, 10):\n",
    "    directory = os.path.join(testpath, '%d' % label)\n",
    "    if not os.path.exists(directory):\n",
    "        os.makedirs(directory)"
   ]
  },
  {
   "cell_type": "code",
   "execution_count": 5,
   "metadata": {},
   "outputs": [
    {
     "name": "stdout",
     "output_type": "stream",
     "text": [
      "Converting train data to png images...\n",
      "... reading file `data_batch_1`\n",
      "... reading file `data_batch_2`\n",
      "... reading file `data_batch_3`\n",
      "... reading file `data_batch_4`\n",
      "... reading file `data_batch_5`\n",
      "Done.\n",
      "Converting test data to png images...\n",
      "Done.\n"
     ]
    }
   ],
   "source": [
    "# create png images from original datasets\n",
    "print ('Converting train data to png images...')\n",
    "saveTrainImages(datapath, os.path.join(datapath, trainpath))\n",
    "print ('Done.')\n",
    "print ('Converting test data to png images...')\n",
    "saveTestImages(datapath, os.path.join(datapath, testpath))\n",
    "print ('Done.')"
   ]
  },
  {
   "cell_type": "markdown",
   "metadata": {},
   "source": [
    "### CIFAR10 training\n",
    "\n",
    "reference source: https://github.com/keras-team/keras/blob/master/examples/cifar10_cnn.py"
   ]
  },
  {
   "cell_type": "code",
   "execution_count": 6,
   "metadata": {},
   "outputs": [
    {
     "name": "stderr",
     "output_type": "stream",
     "text": [
      "/anaconda/envs/py35/lib/python3.5/site-packages/h5py/__init__.py:36: FutureWarning: Conversion of the second argument of issubdtype from `float` to `np.floating` is deprecated. In future, it will be treated as `np.float64 == np.dtype(float).type`.\n",
      "  from ._conv import register_converters as _register_converters\n",
      "Using TensorFlow backend.\n"
     ]
    }
   ],
   "source": [
    "import keras\n",
    "from keras.datasets import cifar10\n",
    "from keras.preprocessing.image import ImageDataGenerator\n",
    "from keras.models import Sequential\n",
    "from keras.layers import Dense, Dropout, Activation, Flatten\n",
    "from keras.layers import Conv2D, MaxPooling2D\n",
    "from keras import backend as K\n",
    "import os\n",
    "import matplotlib.pyplot as plt"
   ]
  },
  {
   "cell_type": "code",
   "execution_count": 7,
   "metadata": {},
   "outputs": [],
   "source": [
    "batch_size = 32\n",
    "num_classes = 10\n",
    "epochs = 100\n",
    "#data_augmentation = True\n",
    "#num_predictions = 20\n",
    "save_dir = os.path.abspath('../models')\n",
    "model_name = 'sample_cifar10_model.h5'"
   ]
  },
  {
   "cell_type": "code",
   "execution_count": 8,
   "metadata": {},
   "outputs": [
    {
     "name": "stdout",
     "output_type": "stream",
     "text": [
      "Found 50000 images belonging to 10 classes.\n",
      "Found 10000 images belonging to 10 classes.\n"
     ]
    }
   ],
   "source": [
    "# read dataset from directory\n",
    "# this is the augmentation configuration we will use for training\n",
    "train_datagen = ImageDataGenerator(\n",
    "    rescale=1. / 255,\n",
    "    #shear_range=0.2,\n",
    "    #zoom_range=0.2,\n",
    "    horizontal_flip=True)\n",
    "\n",
    "# this is the augmentation configuration we will use for testing:\n",
    "# only rescaling\n",
    "test_datagen = ImageDataGenerator(rescale=1. / 255)\n",
    "\n",
    "train_generator = train_datagen.flow_from_directory(\n",
    "    trainpath,\n",
    "    target_size=(imgSize, imgSize),\n",
    "    batch_size=batch_size,\n",
    "    class_mode='categorical')\n",
    "\n",
    "validation_generator = test_datagen.flow_from_directory(\n",
    "    testpath,\n",
    "    target_size=(imgSize, imgSize),\n",
    "    batch_size=batch_size,\n",
    "    class_mode='categorical')"
   ]
  },
  {
   "cell_type": "code",
   "execution_count": 9,
   "metadata": {},
   "outputs": [],
   "source": [
    "nb_train_samples = 50000\n",
    "nb_validation_samples = 10000\n",
    "\n",
    "if K.image_data_format() == 'channels_first':\n",
    "    input_shape = (3, imgSize, imgSize)\n",
    "else:\n",
    "    input_shape = (imgSize, imgSize, 3)"
   ]
  },
  {
   "cell_type": "code",
   "execution_count": 10,
   "metadata": {},
   "outputs": [],
   "source": [
    "model = Sequential()\n",
    "model.add(Conv2D(32, (3, 3), padding='same',\n",
    "                 input_shape=input_shape))\n",
    "model.add(Activation('relu'))\n",
    "model.add(Conv2D(32, (3, 3)))\n",
    "model.add(Activation('relu'))\n",
    "model.add(MaxPooling2D(pool_size=(2, 2)))\n",
    "model.add(Dropout(0.25))\n",
    "\n",
    "model.add(Conv2D(64, (3, 3), padding='same'))\n",
    "model.add(Activation('relu'))\n",
    "model.add(Conv2D(64, (3, 3)))\n",
    "model.add(Activation('relu'))\n",
    "model.add(MaxPooling2D(pool_size=(2, 2)))\n",
    "model.add(Dropout(0.25))\n",
    "\n",
    "model.add(Flatten())\n",
    "model.add(Dense(512))\n",
    "model.add(Activation('relu'))\n",
    "model.add(Dropout(0.5))\n",
    "model.add(Dense(num_classes))\n",
    "model.add(Activation('softmax'))\n",
    "\n",
    "# initiate RMSprop optimizer\n",
    "opt = keras.optimizers.rmsprop(lr=0.0001, decay=1e-6)\n",
    "\n",
    "# Let's train the model using RMSprop\n",
    "model.compile(loss='categorical_crossentropy',\n",
    "              optimizer=opt,\n",
    "              metrics=['accuracy'])"
   ]
  },
  {
   "cell_type": "code",
   "execution_count": 11,
   "metadata": {
    "scrolled": true
   },
   "outputs": [
    {
     "name": "stdout",
     "output_type": "stream",
     "text": [
      "WARNING:tensorflow:Variable *= will be deprecated. Use variable.assign_mul if you want assignment to the variable value or 'x = x * y' if you want a new python Tensor object.\n",
      "Epoch 1/100\n",
      "1562/1562 [==============================] - 25s 16ms/step - loss: 1.8047 - acc: 0.3396 - val_loss: 1.5255 - val_acc: 0.4468\n",
      "Epoch 2/100\n",
      "1562/1562 [==============================] - 20s 13ms/step - loss: 1.5170 - acc: 0.4484 - val_loss: 1.3558 - val_acc: 0.5153\n",
      "Epoch 3/100\n",
      "1562/1562 [==============================] - 20s 13ms/step - loss: 1.3871 - acc: 0.5004 - val_loss: 1.3051 - val_acc: 0.5383\n",
      "Epoch 4/100\n",
      "1562/1562 [==============================] - 20s 13ms/step - loss: 1.2969 - acc: 0.5383 - val_loss: 1.1772 - val_acc: 0.5882\n",
      "Epoch 5/100\n",
      "1562/1562 [==============================] - 20s 13ms/step - loss: 1.2269 - acc: 0.5637 - val_loss: 1.1346 - val_acc: 0.5977\n",
      "Epoch 6/100\n",
      "1562/1562 [==============================] - 20s 13ms/step - loss: 1.1631 - acc: 0.5896 - val_loss: 1.0603 - val_acc: 0.6259\n",
      "Epoch 7/100\n",
      "1562/1562 [==============================] - 20s 13ms/step - loss: 1.1099 - acc: 0.6088 - val_loss: 1.0094 - val_acc: 0.6476\n",
      "Epoch 8/100\n",
      "1562/1562 [==============================] - 20s 13ms/step - loss: 1.0588 - acc: 0.6286 - val_loss: 0.9600 - val_acc: 0.6609\n",
      "Epoch 9/100\n",
      "1562/1562 [==============================] - 20s 13ms/step - loss: 1.0213 - acc: 0.6411 - val_loss: 0.9343 - val_acc: 0.6716\n",
      "Epoch 10/100\n",
      "1562/1562 [==============================] - 20s 13ms/step - loss: 0.9839 - acc: 0.6556 - val_loss: 0.9443 - val_acc: 0.6712\n",
      "Epoch 11/100\n",
      "1562/1562 [==============================] - 20s 13ms/step - loss: 0.9522 - acc: 0.6676 - val_loss: 0.8820 - val_acc: 0.6945\n",
      "Epoch 12/100\n",
      "1562/1562 [==============================] - 20s 13ms/step - loss: 0.9231 - acc: 0.6785 - val_loss: 0.8397 - val_acc: 0.7068\n",
      "Epoch 13/100\n",
      "1562/1562 [==============================] - 20s 13ms/step - loss: 0.9019 - acc: 0.6868 - val_loss: 0.8806 - val_acc: 0.6973\n",
      "Epoch 14/100\n",
      "1562/1562 [==============================] - 20s 13ms/step - loss: 0.8808 - acc: 0.6924 - val_loss: 0.8244 - val_acc: 0.7148\n",
      "Epoch 15/100\n",
      "1562/1562 [==============================] - 20s 13ms/step - loss: 0.8612 - acc: 0.7019 - val_loss: 0.7994 - val_acc: 0.7259\n",
      "Epoch 16/100\n",
      "1562/1562 [==============================] - 20s 13ms/step - loss: 0.8444 - acc: 0.7084 - val_loss: 0.7773 - val_acc: 0.7309\n",
      "Epoch 17/100\n",
      "1562/1562 [==============================] - 20s 13ms/step - loss: 0.8306 - acc: 0.7135 - val_loss: 0.7936 - val_acc: 0.7320\n",
      "Epoch 18/100\n",
      "1562/1562 [==============================] - 20s 13ms/step - loss: 0.8187 - acc: 0.7161 - val_loss: 0.7731 - val_acc: 0.7388\n",
      "Epoch 19/100\n",
      "1562/1562 [==============================] - 20s 13ms/step - loss: 0.8047 - acc: 0.7225 - val_loss: 0.7640 - val_acc: 0.7371\n",
      "Epoch 20/100\n",
      "1562/1562 [==============================] - 20s 13ms/step - loss: 0.7952 - acc: 0.7258 - val_loss: 0.7451 - val_acc: 0.7475\n",
      "Epoch 21/100\n",
      "1562/1562 [==============================] - 20s 13ms/step - loss: 0.7839 - acc: 0.7292 - val_loss: 0.7354 - val_acc: 0.7441\n",
      "Epoch 22/100\n",
      "1562/1562 [==============================] - 20s 13ms/step - loss: 0.7791 - acc: 0.7314 - val_loss: 0.7295 - val_acc: 0.7518\n",
      "Epoch 23/100\n",
      "1562/1562 [==============================] - 20s 13ms/step - loss: 0.7734 - acc: 0.7351 - val_loss: 0.7216 - val_acc: 0.7525\n",
      "Epoch 24/100\n",
      "1562/1562 [==============================] - 20s 13ms/step - loss: 0.7681 - acc: 0.7386 - val_loss: 0.7271 - val_acc: 0.7491\n",
      "Epoch 25/100\n",
      "1562/1562 [==============================] - 20s 13ms/step - loss: 0.7607 - acc: 0.7402 - val_loss: 0.7204 - val_acc: 0.7552\n",
      "Epoch 26/100\n",
      "1562/1562 [==============================] - 20s 13ms/step - loss: 0.7593 - acc: 0.7426 - val_loss: 0.7144 - val_acc: 0.7610\n",
      "Epoch 27/100\n",
      "1562/1562 [==============================] - 20s 13ms/step - loss: 0.7508 - acc: 0.7441 - val_loss: 0.7302 - val_acc: 0.7551\n",
      "Epoch 28/100\n",
      "1562/1562 [==============================] - 20s 13ms/step - loss: 0.7489 - acc: 0.7459 - val_loss: 0.6979 - val_acc: 0.7613\n",
      "Epoch 29/100\n",
      "1562/1562 [==============================] - 20s 13ms/step - loss: 0.7400 - acc: 0.7482 - val_loss: 0.7059 - val_acc: 0.7601\n",
      "Epoch 30/100\n",
      "1562/1562 [==============================] - 20s 13ms/step - loss: 0.7378 - acc: 0.7524 - val_loss: 0.6920 - val_acc: 0.7648\n",
      "Epoch 31/100\n",
      "1562/1562 [==============================] - 20s 13ms/step - loss: 0.7386 - acc: 0.7488 - val_loss: 0.6969 - val_acc: 0.7648\n",
      "Epoch 32/100\n",
      "1562/1562 [==============================] - 20s 13ms/step - loss: 0.7298 - acc: 0.7510 - val_loss: 0.6903 - val_acc: 0.7643\n",
      "Epoch 33/100\n",
      "1562/1562 [==============================] - 20s 13ms/step - loss: 0.7287 - acc: 0.7517 - val_loss: 0.6901 - val_acc: 0.7616\n",
      "Epoch 34/100\n",
      "1562/1562 [==============================] - 20s 13ms/step - loss: 0.7205 - acc: 0.7549 - val_loss: 0.7127 - val_acc: 0.7596\n",
      "Epoch 35/100\n",
      "1562/1562 [==============================] - 20s 13ms/step - loss: 0.7202 - acc: 0.7542 - val_loss: 0.7026 - val_acc: 0.7688\n",
      "Epoch 36/100\n",
      "1562/1562 [==============================] - 20s 13ms/step - loss: 0.7158 - acc: 0.7586 - val_loss: 0.6633 - val_acc: 0.7776\n",
      "Epoch 37/100\n",
      "1562/1562 [==============================] - 20s 13ms/step - loss: 0.7155 - acc: 0.7581 - val_loss: 0.6569 - val_acc: 0.7742\n",
      "Epoch 38/100\n",
      "1562/1562 [==============================] - 20s 13ms/step - loss: 0.7055 - acc: 0.7601 - val_loss: 0.6659 - val_acc: 0.7781\n",
      "Epoch 39/100\n",
      "1562/1562 [==============================] - 20s 13ms/step - loss: 0.7091 - acc: 0.7622 - val_loss: 0.6726 - val_acc: 0.7747\n",
      "Epoch 40/100\n",
      "1562/1562 [==============================] - 20s 13ms/step - loss: 0.7008 - acc: 0.7643 - val_loss: 0.6765 - val_acc: 0.7765\n",
      "Epoch 41/100\n",
      "1562/1562 [==============================] - 20s 13ms/step - loss: 0.6996 - acc: 0.7660 - val_loss: 0.6502 - val_acc: 0.7792\n",
      "Epoch 42/100\n",
      "1562/1562 [==============================] - 20s 13ms/step - loss: 0.6959 - acc: 0.7644 - val_loss: 0.6815 - val_acc: 0.7702\n",
      "Epoch 43/100\n",
      "1562/1562 [==============================] - 20s 13ms/step - loss: 0.6959 - acc: 0.7657 - val_loss: 0.6414 - val_acc: 0.7829\n",
      "Epoch 44/100\n",
      "1562/1562 [==============================] - 20s 13ms/step - loss: 0.7001 - acc: 0.7669 - val_loss: 0.7181 - val_acc: 0.7726\n",
      "Epoch 45/100\n",
      "1562/1562 [==============================] - 20s 13ms/step - loss: 0.6919 - acc: 0.7686 - val_loss: 0.6571 - val_acc: 0.7834\n",
      "Epoch 46/100\n",
      "1562/1562 [==============================] - 20s 13ms/step - loss: 0.6872 - acc: 0.7683 - val_loss: 0.6561 - val_acc: 0.7808\n",
      "Epoch 47/100\n",
      "1562/1562 [==============================] - 20s 13ms/step - loss: 0.6880 - acc: 0.7691 - val_loss: 0.6585 - val_acc: 0.7851\n",
      "Epoch 48/100\n",
      "1562/1562 [==============================] - 20s 13ms/step - loss: 0.6842 - acc: 0.7703 - val_loss: 0.6615 - val_acc: 0.7846\n",
      "Epoch 49/100\n",
      "1562/1562 [==============================] - 20s 13ms/step - loss: 0.6816 - acc: 0.7726 - val_loss: 0.6488 - val_acc: 0.7872\n",
      "Epoch 50/100\n",
      "1562/1562 [==============================] - 20s 13ms/step - loss: 0.6788 - acc: 0.7705 - val_loss: 0.6350 - val_acc: 0.7938\n",
      "Epoch 51/100\n",
      "1562/1562 [==============================] - 20s 13ms/step - loss: 0.6850 - acc: 0.7707 - val_loss: 0.6735 - val_acc: 0.7875\n",
      "Epoch 52/100\n",
      "1562/1562 [==============================] - 20s 13ms/step - loss: 0.6790 - acc: 0.7733 - val_loss: 0.6700 - val_acc: 0.7799\n",
      "Epoch 53/100\n",
      "1562/1562 [==============================] - 20s 13ms/step - loss: 0.6734 - acc: 0.7778 - val_loss: 0.6361 - val_acc: 0.7928\n",
      "Epoch 54/100\n",
      "1562/1562 [==============================] - 20s 13ms/step - loss: 0.6769 - acc: 0.7730 - val_loss: 0.6459 - val_acc: 0.7848\n",
      "Epoch 55/100\n",
      "1562/1562 [==============================] - 20s 13ms/step - loss: 0.6700 - acc: 0.7762 - val_loss: 0.7255 - val_acc: 0.7754\n",
      "Epoch 56/100\n",
      "1562/1562 [==============================] - 20s 13ms/step - loss: 0.6753 - acc: 0.7761 - val_loss: 0.6259 - val_acc: 0.7897\n",
      "Epoch 57/100\n",
      "1562/1562 [==============================] - 20s 13ms/step - loss: 0.6684 - acc: 0.7747 - val_loss: 0.6760 - val_acc: 0.7828\n",
      "Epoch 58/100\n",
      "1562/1562 [==============================] - 20s 13ms/step - loss: 0.6730 - acc: 0.7753 - val_loss: 0.6524 - val_acc: 0.7893\n",
      "Epoch 59/100\n"
     ]
    },
    {
     "name": "stdout",
     "output_type": "stream",
     "text": [
      "1562/1562 [==============================] - 20s 13ms/step - loss: 0.6699 - acc: 0.7765 - val_loss: 0.7523 - val_acc: 0.7798\n",
      "Epoch 60/100\n",
      "1562/1562 [==============================] - 20s 13ms/step - loss: 0.6760 - acc: 0.7745 - val_loss: 0.6351 - val_acc: 0.7898\n",
      "Epoch 61/100\n",
      "1562/1562 [==============================] - 20s 13ms/step - loss: 0.6691 - acc: 0.7783 - val_loss: 0.6429 - val_acc: 0.7874\n",
      "Epoch 62/100\n",
      "1562/1562 [==============================] - 20s 13ms/step - loss: 0.6631 - acc: 0.7781 - val_loss: 0.6902 - val_acc: 0.7841\n",
      "Epoch 63/100\n",
      "1562/1562 [==============================] - 20s 13ms/step - loss: 0.6643 - acc: 0.7788 - val_loss: 0.6216 - val_acc: 0.7924\n",
      "Epoch 64/100\n",
      "1562/1562 [==============================] - 20s 13ms/step - loss: 0.6652 - acc: 0.7802 - val_loss: 0.6616 - val_acc: 0.7933\n",
      "Epoch 65/100\n",
      "1562/1562 [==============================] - 20s 13ms/step - loss: 0.6665 - acc: 0.7771 - val_loss: 0.6346 - val_acc: 0.7953\n",
      "Epoch 66/100\n",
      "1562/1562 [==============================] - 20s 13ms/step - loss: 0.6641 - acc: 0.7799 - val_loss: 0.6536 - val_acc: 0.7848\n",
      "Epoch 67/100\n",
      "1562/1562 [==============================] - 20s 13ms/step - loss: 0.6658 - acc: 0.7799 - val_loss: 0.6286 - val_acc: 0.7977\n",
      "Epoch 68/100\n",
      "1562/1562 [==============================] - 20s 13ms/step - loss: 0.6641 - acc: 0.7796 - val_loss: 0.6701 - val_acc: 0.7965\n",
      "Epoch 69/100\n",
      "1562/1562 [==============================] - 20s 13ms/step - loss: 0.6640 - acc: 0.7788 - val_loss: 0.6481 - val_acc: 0.7882\n",
      "Epoch 70/100\n",
      "1562/1562 [==============================] - 20s 13ms/step - loss: 0.6691 - acc: 0.7787 - val_loss: 0.7239 - val_acc: 0.7836\n",
      "Epoch 71/100\n",
      "1562/1562 [==============================] - 20s 13ms/step - loss: 0.6695 - acc: 0.7773 - val_loss: 0.6341 - val_acc: 0.7979\n",
      "Epoch 72/100\n",
      "1562/1562 [==============================] - 20s 13ms/step - loss: 0.6686 - acc: 0.7779 - val_loss: 0.6562 - val_acc: 0.7849\n",
      "Epoch 73/100\n",
      "1562/1562 [==============================] - 20s 13ms/step - loss: 0.6621 - acc: 0.7788 - val_loss: 0.6562 - val_acc: 0.7911\n",
      "Epoch 74/100\n",
      "1562/1562 [==============================] - 20s 13ms/step - loss: 0.6649 - acc: 0.7799 - val_loss: 0.6793 - val_acc: 0.7740\n",
      "Epoch 75/100\n",
      "1562/1562 [==============================] - 20s 13ms/step - loss: 0.6608 - acc: 0.7793 - val_loss: 0.6216 - val_acc: 0.7967\n",
      "Epoch 76/100\n",
      "1562/1562 [==============================] - 20s 13ms/step - loss: 0.6668 - acc: 0.7795 - val_loss: 0.6775 - val_acc: 0.7846\n",
      "Epoch 77/100\n",
      "1562/1562 [==============================] - 20s 13ms/step - loss: 0.6631 - acc: 0.7821 - val_loss: 0.6138 - val_acc: 0.7982\n",
      "Epoch 78/100\n",
      "1562/1562 [==============================] - 20s 13ms/step - loss: 0.6643 - acc: 0.7785 - val_loss: 0.6690 - val_acc: 0.7978\n",
      "Epoch 79/100\n",
      "1562/1562 [==============================] - 20s 13ms/step - loss: 0.6623 - acc: 0.7805 - val_loss: 0.6180 - val_acc: 0.7980\n",
      "Epoch 80/100\n",
      "1562/1562 [==============================] - 20s 13ms/step - loss: 0.6659 - acc: 0.7797 - val_loss: 0.7260 - val_acc: 0.7804\n",
      "Epoch 81/100\n",
      "1562/1562 [==============================] - 20s 13ms/step - loss: 0.6638 - acc: 0.7812 - val_loss: 0.6619 - val_acc: 0.7833\n",
      "Epoch 82/100\n",
      "1562/1562 [==============================] - 20s 13ms/step - loss: 0.6682 - acc: 0.7773 - val_loss: 0.6551 - val_acc: 0.7838\n",
      "Epoch 83/100\n",
      "1562/1562 [==============================] - 20s 13ms/step - loss: 0.6685 - acc: 0.7788 - val_loss: 0.6371 - val_acc: 0.7962\n",
      "Epoch 84/100\n",
      "1562/1562 [==============================] - 20s 13ms/step - loss: 0.6650 - acc: 0.7819 - val_loss: 0.6778 - val_acc: 0.7818\n",
      "Epoch 85/100\n",
      "1562/1562 [==============================] - 20s 13ms/step - loss: 0.6685 - acc: 0.7778 - val_loss: 0.6494 - val_acc: 0.7990\n",
      "Epoch 86/100\n",
      "1562/1562 [==============================] - 20s 13ms/step - loss: 0.6663 - acc: 0.7814 - val_loss: 0.6752 - val_acc: 0.7868\n",
      "Epoch 87/100\n",
      "1562/1562 [==============================] - 20s 13ms/step - loss: 0.6697 - acc: 0.7767 - val_loss: 0.6485 - val_acc: 0.7833\n",
      "Epoch 88/100\n",
      "1562/1562 [==============================] - 20s 13ms/step - loss: 0.6610 - acc: 0.7804 - val_loss: 0.6217 - val_acc: 0.7994\n",
      "Epoch 89/100\n",
      "1562/1562 [==============================] - 20s 13ms/step - loss: 0.6650 - acc: 0.7812 - val_loss: 0.7416 - val_acc: 0.7890\n",
      "Epoch 90/100\n",
      "1562/1562 [==============================] - 20s 13ms/step - loss: 0.6591 - acc: 0.7816 - val_loss: 0.6927 - val_acc: 0.7895\n",
      "Epoch 91/100\n",
      "1562/1562 [==============================] - 20s 13ms/step - loss: 0.6668 - acc: 0.7812 - val_loss: 0.6301 - val_acc: 0.7947\n",
      "Epoch 92/100\n",
      "1562/1562 [==============================] - 20s 13ms/step - loss: 0.6629 - acc: 0.7806 - val_loss: 0.6319 - val_acc: 0.7870\n",
      "Epoch 93/100\n",
      "1562/1562 [==============================] - 20s 13ms/step - loss: 0.6699 - acc: 0.7787 - val_loss: 0.6601 - val_acc: 0.7964\n",
      "Epoch 94/100\n",
      "1562/1562 [==============================] - 20s 13ms/step - loss: 0.6697 - acc: 0.7814 - val_loss: 0.6935 - val_acc: 0.7820\n",
      "Epoch 95/100\n",
      "1562/1562 [==============================] - 20s 13ms/step - loss: 0.6719 - acc: 0.7780 - val_loss: 0.6539 - val_acc: 0.7841\n",
      "Epoch 96/100\n",
      "1562/1562 [==============================] - 20s 13ms/step - loss: 0.6729 - acc: 0.7774 - val_loss: 0.6611 - val_acc: 0.8042\n",
      "Epoch 97/100\n",
      "1562/1562 [==============================] - 20s 13ms/step - loss: 0.6738 - acc: 0.7790 - val_loss: 0.6585 - val_acc: 0.7965\n",
      "Epoch 98/100\n",
      "1562/1562 [==============================] - 20s 13ms/step - loss: 0.6797 - acc: 0.7772 - val_loss: 0.6666 - val_acc: 0.7950\n",
      "Epoch 99/100\n",
      "1562/1562 [==============================] - 20s 13ms/step - loss: 0.6730 - acc: 0.7790 - val_loss: 0.7286 - val_acc: 0.7802\n",
      "Epoch 100/100\n",
      "1562/1562 [==============================] - 20s 13ms/step - loss: 0.6750 - acc: 0.7756 - val_loss: 0.6362 - val_acc: 0.7888\n"
     ]
    }
   ],
   "source": [
    "history = model.fit_generator(\n",
    "    train_generator,\n",
    "    steps_per_epoch=nb_train_samples // batch_size,\n",
    "    epochs=epochs,\n",
    "    validation_data=validation_generator,\n",
    "    validation_steps=nb_validation_samples // batch_size)"
   ]
  },
  {
   "cell_type": "code",
   "execution_count": 12,
   "metadata": {},
   "outputs": [
    {
     "name": "stdout",
     "output_type": "stream",
     "text": [
      "Saved trained model at /home/iljoong/models/sample_cifar10_model.h5 \n"
     ]
    }
   ],
   "source": [
    "# Save model and weights\n",
    "if not os.path.isdir(save_dir):\n",
    "    os.makedirs(save_dir)\n",
    "model_path = os.path.join(save_dir, model_name)\n",
    "model.save(model_path)\n",
    "print('Saved trained model at %s ' % model_path)"
   ]
  },
  {
   "cell_type": "code",
   "execution_count": 13,
   "metadata": {},
   "outputs": [],
   "source": [
    "# Load model\n",
    "model_path = os.path.join(save_dir, model_name)\n",
    "\n",
    "model = keras.models.load_model(model_path)"
   ]
  },
  {
   "cell_type": "raw",
   "metadata": {},
   "source": [
    "# Score trained model.\n",
    "scores = model.evaluate(x_test, y_test, verbose=1)\n",
    "print('Test loss:', scores[0])\n",
    "print('Test accuracy:', scores[1])"
   ]
  },
  {
   "cell_type": "code",
   "execution_count": 14,
   "metadata": {
    "scrolled": false
   },
   "outputs": [
    {
     "data": {
      "image/png": "[encoded data removed]",
      "text/plain": [
       "<matplotlib.figure.Figure at 0x7f81c8d3b2b0>"
      ]
     },
     "metadata": {},
     "output_type": "display_data"
    }
   ],
   "source": [
    "# Get training and test loss histories\n",
    "loss = history.history['loss']\n",
    "acc = history.history['acc']\n",
    "val_loss = history.history['val_loss']\n",
    "val_acc = history.history['val_acc']\n",
    "# Create count of the number of epochs\n",
    "epoch_count = range(1, len(loss) + 1)\n",
    "\n",
    "# Visualize loss history\n",
    "fig=plt.figure(figsize=(12, 4))\n",
    "plt.figure(1)\n",
    "\n",
    "fig.add_subplot(121)\n",
    "plt.plot(epoch_count, acc, 'b--')\n",
    "plt.plot(epoch_count, loss, 'r--')\n",
    "plt.legend(['acc', 'loss'])\n",
    "plt.xlabel('epoch')\n",
    "plt.ylabel('acc vs. loss')\n",
    "\n",
    "fig.add_subplot(122)\n",
    "plt.plot(epoch_count, acc, 'b--')\n",
    "plt.plot(epoch_count, val_acc, 'r--')\n",
    "plt.legend(['acc', 'val_acc'])\n",
    "plt.xlabel('epoch')\n",
    "plt.ylabel('acc vs. val_acc')\n",
    "\n",
    "plt.show()"
   ]
  },
  {
   "cell_type": "markdown",
   "metadata": {},
   "source": [
    "### Predict\n",
    "\n",
    "test url or get url from search"
   ]
  },
  {
   "cell_type": "code",
   "execution_count": 15,
   "metadata": {},
   "outputs": [],
   "source": [
    "import requests\n",
    "from PIL import Image\n",
    "import cv2\n",
    "from keras.preprocessing import image\n",
    "from io import BytesIO"
   ]
  },
  {
   "cell_type": "code",
   "execution_count": 16,
   "metadata": {},
   "outputs": [
    {
     "data": {
      "text/plain": [
       "<matplotlib.image.AxesImage at 0x7f81bb074780>"
      ]
     },
     "execution_count": 16,
     "metadata": {},
     "output_type": "execute_result"
    },
    {
     "data": {
      "image/png": "[encoded data removed]",
      "text/plain": [
       "<matplotlib.figure.Figure at 0x7f81c89b4128>"
      ]
     },
     "metadata": {},
     "output_type": "display_data"
    }
   ],
   "source": [
    "#test_url = \"https://boygeniusreport.files.wordpress.com/2017/01/cat.jpg\"\n",
    "test_url = \"https://www.pensketruckrental.com/img/hero/hero_trucks_22.jpg\"\n",
    "\n",
    "r = requests.get(test_url)\n",
    "\n",
    "img = Image.open(BytesIO(r.content))\n",
    "rsimg = cv2.resize(np.array(img), (32, 32), interpolation = cv2.INTER_AREA)\n",
    "plt.imshow(rsimg)"
   ]
  },
  {
   "cell_type": "code",
   "execution_count": 17,
   "metadata": {},
   "outputs": [],
   "source": [
    "img = Image.fromarray(rsimg)\n",
    "\n",
    "x = image.img_to_array(img)\n",
    "x = np.expand_dims(x, axis=0)\n",
    "x /= 255.\n",
    "classes = model.predict(x)"
   ]
  },
  {
   "cell_type": "code",
   "execution_count": 18,
   "metadata": {},
   "outputs": [
    {
     "name": "stdout",
     "output_type": "stream",
     "text": [
      "[[5.5321667e-08 6.8723911e-04 1.0592832e-13 4.5877880e-12 9.1466650e-15\n",
      "  5.7555109e-14 5.7450507e-13 2.9905965e-12 1.2686054e-07 9.9931264e-01]] 9\n",
      "truck\n"
     ]
    }
   ],
   "source": [
    "print(classes, np.argmax(classes))\n",
    "\n",
    "l = np.argmax(classes)\n",
    "labels = ['airplane', 'automobile', 'bird', 'cat', 'deer', 'dog', 'frog', 'horse', 'ship', 'truck']\n",
    "print(labels[l])"
   ]
  },
  {
   "cell_type": "code",
   "execution_count": null,
   "metadata": {},
   "outputs": [],
   "source": []
  }
 ],
 "metadata": {
  "kernelspec": {
   "display_name": "Python [default]",
   "language": "python",
   "name": "python3"
  },
  "language_info": {
   "codemirror_mode": {
    "name": "ipython",
    "version": 3
   },
   "file_extension": ".py",
   "mimetype": "text/x-python",
   "name": "python",
   "nbconvert_exporter": "python",
   "pygments_lexer": "ipython3",
   "version": "3.5.4"
  }
 },
 "nbformat": 4,
 "nbformat_minor": 2
}
